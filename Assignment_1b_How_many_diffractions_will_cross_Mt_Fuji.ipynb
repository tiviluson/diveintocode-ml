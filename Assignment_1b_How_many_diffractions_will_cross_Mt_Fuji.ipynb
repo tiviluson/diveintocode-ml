{
 "cells": [
  {
   "cell_type": "code",
   "execution_count": 10,
   "metadata": {},
   "outputs": [],
   "source": [
    "import math"
   ]
  },
  {
   "cell_type": "markdown",
   "metadata": {},
   "source": [
    "# [Problem 1] Minimum number of folds over Mt. Fuji"
   ]
  },
  {
   "cell_type": "code",
   "execution_count": 4,
   "metadata": {},
   "outputs": [
    {
     "name": "stdout",
     "output_type": "stream",
     "text": [
      "A sheet needs to be folded 26 times to exceed Mt. Fuji.\n"
     ]
    }
   ],
   "source": [
    "def min_number_of_folds_over_Mt_Fuji():\n",
    "    height=3776\n",
    "    thickness=0.00008\n",
    "    n = 0\n",
    "    while thickness * (2**n) < height:\n",
    "        n += 1\n",
    "    return n\n",
    "\n",
    "print(\"A sheet needs to be folded\", min_number_of_folds_over_Mt_Fuji(), \"times to exceed Mt. Fuji.\")"
   ]
  },
  {
   "cell_type": "markdown",
   "metadata": {},
   "source": [
    "# [Problem 2] Creating a function corresponding to an arbitrary thickness"
   ]
  },
  {
   "cell_type": "code",
   "execution_count": 9,
   "metadata": {},
   "outputs": [
    {
     "name": "stdout",
     "output_type": "stream",
     "text": [
      "A sheet needs to be folded 69 times to reach the closest non-Sun star.\n"
     ]
    }
   ],
   "source": [
    " def min_number_of_folds_reaching_something(distance, thickness):\n",
    "    # According to https://www.space.com/18090-alpha-centauri-nearest-star-system.html#:~:text=The%20two%20main%20stars%20are,star%20other%20than%20the%20sun.\n",
    "    \n",
    "    n = 0\n",
    "    while thickness * (2**n) < distance:\n",
    "        n += 1\n",
    "    return n\n",
    "\n",
    "print(\"A sheet needs to be folded\", min_number_of_folds_reaching_something(distance=4.22*9.4605284*(10**15), thickness=0.00008), \"times to reach the closest non-Sun star.\")"
   ]
  },
  {
   "cell_type": "markdown",
   "metadata": {},
   "source": [
    "# [Problem 3] Required paper length"
   ]
  },
  {
   "cell_type": "code",
   "execution_count": 23,
   "metadata": {},
   "outputs": [
    {
     "name": "stdout",
     "output_type": "stream",
     "text": [
      "A sheet needs to be at least 188,646,348,487.2 m long to reach Mt.Fuji.\n",
      "A sheet needs to be at least 3,240,919,444,170,781,229,056.0 m long to reach the Moon.\n",
      "A sheet needs to be at least 14,595,803,601,100,347,983,589,756,318,297,096,192.0 m long to reach the closest non-Sun star.\n"
     ]
    }
   ],
   "source": [
    "def min_length_of_paper(n, thickness=0.00008):\n",
    "    return math.pi * thickness * (2**n + 4) * (2**n - 1) / 6\n",
    "\n",
    "n = min_number_of_folds_over_Mt_Fuji()\n",
    "print(\"A sheet needs to be at least {:,.1f} m long to reach Mt.Fuji.\".format(min_length_of_paper(n)))\n",
    "n = min_number_of_folds_reaching_something(384400000, 0.00008)\n",
    "print(\"A sheet needs to be at least {:,.1f} m long to reach the Moon.\".format(min_length_of_paper(n)))\n",
    "n = min_number_of_folds_reaching_something(4.22*9.4605284*(10**15), 0.00008)\n",
    "print(\"A sheet needs to be at least {:,.1f} m long to reach the closest non-Sun star.\".format(min_length_of_paper(n)))"
   ]
  }
 ],
 "metadata": {
  "kernelspec": {
   "display_name": "Python 3",
   "language": "python",
   "name": "python3"
  },
  "language_info": {
   "codemirror_mode": {
    "name": "ipython",
    "version": 3
   },
   "file_extension": ".py",
   "mimetype": "text/x-python",
   "name": "python",
   "nbconvert_exporter": "python",
   "pygments_lexer": "ipython3",
   "version": "3.8.8"
  }
 },
 "nbformat": 4,
 "nbformat_minor": 4
}
