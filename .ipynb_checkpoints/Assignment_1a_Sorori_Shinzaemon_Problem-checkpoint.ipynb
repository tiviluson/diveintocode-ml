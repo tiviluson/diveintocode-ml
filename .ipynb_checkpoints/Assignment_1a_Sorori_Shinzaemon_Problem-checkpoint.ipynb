{
 "cells": [
  {
   "cell_type": "code",
   "execution_count": 1,
   "metadata": {},
   "outputs": [],
   "source": [
    "import matplotlib.pyplot as plt"
   ]
  },
  {
   "cell_type": "markdown",
   "metadata": {},
   "source": [
    "# [Problem 1] Number of grains of rice on the 100th day"
   ]
  },
  {
   "cell_type": "code",
   "execution_count": 2,
   "metadata": {},
   "outputs": [
    {
     "name": "stdout",
     "output_type": "stream",
     "text": [
      "Total number of grains in 100 days: 1267650600228229401496703205375\n"
     ]
    },
    {
     "data": {
      "image/png": "[encoded data removed]",
      "text/plain": [
       "<Figure size 432x288 with 1 Axes>"
      ]
     },
     "metadata": {
      "needs_background": "light"
     },
     "output_type": "display_data"
    }
   ],
   "source": [
    "number_of_days = 100\n",
    "number_of_grains = []\n",
    "total_number_of_grains = []\n",
    "grains = 1\n",
    "total_number_of_grains.append(grains)\n",
    "number_of_grains.append(grains)\n",
    "for i in range(number_of_days-1):\n",
    "    grains = grains*2\n",
    "    number_of_grains.append(grains)\n",
    "    total_number_of_grains.append(total_number_of_grains[-1] + grains)\n",
    "print(\"Total number of grains in\", number_of_days, \"days:\", total_number_of_grains[-1])\n",
    "plt.title(\"The change in the number of rice grains\")\n",
    "plt.xlabel(\"number of days\")\n",
    "plt.ylabel(\"number of rice\")\n",
    "plt.plot([i for i in range(number_of_days)], total_number_of_grains, 'b.', label=\"Total number of grains\")\n",
    "plt.plot([i for i in range(number_of_days)], number_of_grains, 'r.', label=\"Number of grains\")\n",
    "plt.legend(bbox_to_anchor=(0.1, 0.8), loc='upper left', borderaxespad=0.)\n",
    "plt.show()"
   ]
  },
  {
   "cell_type": "markdown",
   "metadata": {},
   "source": [
    "# [Problem 2] Number of rice grains outside of the 100th day"
   ]
  },
  {
   "cell_type": "code",
   "execution_count": 3,
   "metadata": {},
   "outputs": [],
   "source": [
    "def compute_sorori_shinzaemon(day=100):\n",
    "    \"\"\"\n",
    "    A function that verifies the anecdote of rice by Sorori Shinzaemon. Calculate the number of rice grains per day.\n",
    "    Parameteres\n",
    "    --------------\n",
    "    day: int\n",
    "        Number of days to get rice (default : 100)\n",
    "    Returns\n",
    "    --------------\n",
    "    list_n_grains : list\n",
    "        List of the number of rice you get one day (the length of the list is equal to day)\n",
    "    list_total_grains : list\n",
    "        List of the total number of rice you will receive by a certain day (the length of the list will be equal to day)\n",
    "    \"\"\"\n",
    "    # Write the code here. pass is an instruction that means do nothing.\n",
    "    list_n_grains = []\n",
    "    list_total_grains = []\n",
    "    grains = 1\n",
    "    list_n_grains.append(grains)\n",
    "    list_total_grains.append(grains)\n",
    "    for i in range(number_of_days-1):\n",
    "        grains = grains*2\n",
    "        list_n_grains.append(grains)\n",
    "        list_total_grains.append(total_number_of_grains[-1] + grains)\n",
    "    return list_n_grains, list_total_grains\n",
    "\n",
    "list_n_grains, list_total_grains = compute_sorori_shinzaemon(day=10)"
   ]
  },
  {
   "cell_type": "markdown",
   "metadata": {},
   "source": [
    "# [Problem 3] How many people can live for how many days with the rice we get?"
   ]
  },
  {
   "cell_type": "code",
   "execution_count": 5,
   "metadata": {},
   "outputs": [
    {
     "name": "stdout",
     "output_type": "stream",
     "text": [
      "Number of days to live: 950737950171172075208704\n"
     ]
    }
   ],
   "source": [
    "def number_of_days_to_live(number_of_rice_grains, number_of_people):\n",
    "    # According to https://en.wikipedia.org/wiki/Freerice#Effectiveness\n",
    "    number_of_grains_of_rice_needed_per_day_per_person = 1000000000/50000\n",
    "    return int(number_of_rice_grains / (number_of_grains_of_rice_needed_per_day_per_person * number_of_people))\n",
    "\n",
    "_, total = compute_sorori_shinzaemon(day=150)\n",
    "print(\"Number of days to live:\", number_of_days_to_live(total[-1], 100))"
   ]
  }
 ],
 "metadata": {
  "kernelspec": {
   "display_name": "Python 3",
   "language": "python",
   "name": "python3"
  },
  "language_info": {
   "codemirror_mode": {
    "name": "ipython",
    "version": 3
   },
   "file_extension": ".py",
   "mimetype": "text/x-python",
   "name": "python",
   "nbconvert_exporter": "python",
   "pygments_lexer": "ipython3",
   "version": "3.8.8"
  }
 },
 "nbformat": 4,
 "nbformat_minor": 4
}
