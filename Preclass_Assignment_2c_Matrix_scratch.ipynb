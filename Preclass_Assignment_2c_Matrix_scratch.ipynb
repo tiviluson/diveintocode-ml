{
  "nbformat": 4,
  "nbformat_minor": 0,
  "metadata": {
    "colab": {
      "name": "Preclass_Assignment_2c_Matrix_scratch.ipynb",
      "provenance": []
    },
    "kernelspec": {
      "name": "python3",
      "display_name": "Python 3"
    }
  },
  "cells": [
    {
      "cell_type": "code",
      "metadata": {
        "id": "YffRgy6zvmJ1"
      },
      "source": [
        "import numpy as np"
      ],
      "execution_count": 1,
      "outputs": []
    },
    {
      "cell_type": "markdown",
      "metadata": {
        "id": "6kPwyj7_v06D"
      },
      "source": [
        "# [Problem 1] Matrix product is calculated manually"
      ]
    },
    {
      "cell_type": "code",
      "metadata": {
        "id": "etjwCmTwv6jn"
      },
      "source": [
        "a_ndarray = np.array([[-1, 2, 3], [4, -5, 6], [7, 8, -9]])\r\n",
        "b_ndarray = np.array([[0, 2, 1], [0, 2, -8], [2, 9, -1]])"
      ],
      "execution_count": null,
      "outputs": []
    },
    {
      "cell_type": "markdown",
      "metadata": {
        "id": "XaFoyA3KzJpq"
      },
      "source": [
        "Given two matrices $A(m,k)$ and $B(k,n)$. Their dot product $<.>$ is defined as a matrix $C$ with size $(m,n)$. Each entry of matrix $C$ for row $a$ ($a \\in [1,m]$) and column $b$ ($b \\in [1,n]$) is the sum of products of entries from row $a$ of matrix $A$ and column $b$ of matrix $B$. In other word: $C[i][j] = \\sum_{k}{A[i][k]*B[k][j]}$."
      ]
    },
    {
      "cell_type": "markdown",
      "metadata": {
        "id": "i3YC20zO1bjS"
      },
      "source": [
        "The answer for this question is:\r\n",
        "\\begin{bmatrix}\r\n",
        "6 & 29 & -20\\\\\r\n",
        "12 & 52 & 38\\\\\r\n",
        "-18 & -51 & -48\r\n",
        "\\end{bmatrix}\r\n",
        "Example calculation: \\\\\r\n",
        "$C[1][1] = 6 = (-1).0 + 2.0 + 3.2$"
      ]
    },
    {
      "cell_type": "markdown",
      "metadata": {
        "id": "fvKU-UNXyEmD"
      },
      "source": [
        "# [Problem 2] Calculation by NumPy function"
      ]
    },
    {
      "cell_type": "code",
      "metadata": {
        "colab": {
          "base_uri": "https://localhost:8080/"
        },
        "id": "AFlVJDryyb4L",
        "outputId": "b5e9e618-5e9e-4408-da12-20410d44dd96"
      },
      "source": [
        "print(np.matmul(a_ndarray, b_ndarray))\r\n",
        "print(np.dot(a_ndarray, b_ndarray))\r\n",
        "print(a_ndarray @ b_ndarray)"
      ],
      "execution_count": 19,
      "outputs": [
        {
          "output_type": "stream",
          "text": [
            "[[  6  29 -20]\n",
            " [ 12  52  38]\n",
            " [-18 -51 -48]]\n",
            "[[  6  29 -20]\n",
            " [ 12  52  38]\n",
            " [-18 -51 -48]]\n",
            "[[  6  29 -20]\n",
            " [ 12  52  38]\n",
            " [-18 -51 -48]]\n"
          ],
          "name": "stdout"
        }
      ]
    },
    {
      "cell_type": "markdown",
      "metadata": {
        "id": "oiXadWgj1aZ4"
      },
      "source": [
        "# [Problem 3] Implementation of calculation of a certain element"
      ]
    },
    {
      "cell_type": "code",
      "metadata": {
        "colab": {
          "base_uri": "https://localhost:8080/"
        },
        "id": "XP-kiPWA4BhT",
        "outputId": "c8403141-8579-4d84-a730-37e1374e1ebe"
      },
      "source": [
        "def dot_product_simple(a, b, row_a=0, column_b=0):\r\n",
        "    sum = 0\r\n",
        "    for x, y in zip(a[row_a,:], b[:,column_b]):\r\n",
        "        sum += x*y\r\n",
        "    return sum\r\n",
        "print(dot_product_simple(a_ndarray,b_ndarray))"
      ],
      "execution_count": 31,
      "outputs": [
        {
          "output_type": "stream",
          "text": [
            "6\n"
          ],
          "name": "stdout"
        }
      ]
    },
    {
      "cell_type": "markdown",
      "metadata": {
        "id": "WKA6F0li6frt"
      },
      "source": [
        "# [Problem 4] Creating a function that performs matrix multiplication"
      ]
    },
    {
      "cell_type": "code",
      "metadata": {
        "colab": {
          "base_uri": "https://localhost:8080/"
        },
        "id": "__J5i7pW4j7O",
        "outputId": "1f78d07e-d437-4ef7-8a09-39195c9028e3"
      },
      "source": [
        "def dot_product(a, b):\r\n",
        "    c = np.zeros((a.shape[0], b.shape[1]))\r\n",
        "    for i in range(a.shape[0]):\r\n",
        "        for j in range(b.shape[1]):\r\n",
        "            c[i][j] = dot_product_simple(a, b, i, j)\r\n",
        "    return c\r\n",
        "print(dot_product(a_ndarray,b_ndarray))"
      ],
      "execution_count": 32,
      "outputs": [
        {
          "output_type": "stream",
          "text": [
            "[[  6.  29. -20.]\n",
            " [ 12.  52.  38.]\n",
            " [-18. -51. -48.]]\n"
          ],
          "name": "stdout"
        }
      ]
    },
    {
      "cell_type": "markdown",
      "metadata": {
        "id": "KSd102iP6WON"
      },
      "source": [
        "# [Problem 5] Judge the input whose calculation is not defined"
      ]
    },
    {
      "cell_type": "code",
      "metadata": {
        "id": "b-8TTpb666ay"
      },
      "source": [
        "def dot_product_complex(a,b):\r\n",
        "    if a.shape[1] == b.shape[0]:\r\n",
        "        return dot_product(a,b)\r\n",
        "    else:\r\n",
        "        print(\"Conflict matrices' sizes!\")\r\n",
        "        return np.nan"
      ],
      "execution_count": 35,
      "outputs": []
    },
    {
      "cell_type": "code",
      "metadata": {
        "colab": {
          "base_uri": "https://localhost:8080/"
        },
        "id": "USeiTc1v7q_0",
        "outputId": "230eed14-763f-4441-fc32-f75ee98b5064"
      },
      "source": [
        "d_ndarray = np.array([[-1, 2, 3], [4, -5, 6]])\r\n",
        "e_ndarray = np.array([[-9, 8, 7], [6, -5, 4]])\r\n",
        "print(dot_product_complex(d_ndarray, e_ndarray))"
      ],
      "execution_count": 38,
      "outputs": [
        {
          "output_type": "stream",
          "text": [
            "Conflict matrices' sizes!\n",
            "nan\n"
          ],
          "name": "stdout"
        }
      ]
    },
    {
      "cell_type": "markdown",
      "metadata": {
        "id": "jXuWXdDa7Vn1"
      },
      "source": [
        "# [Problem 6] Transposition"
      ]
    },
    {
      "cell_type": "code",
      "metadata": {
        "colab": {
          "base_uri": "https://localhost:8080/"
        },
        "id": "nVJP0JHs7hP4",
        "outputId": "c1666bdc-6eef-4c92-89d8-d981c82a40fb"
      },
      "source": [
        "print(dot_product_complex(d_ndarray, e_ndarray.T))"
      ],
      "execution_count": 39,
      "outputs": [
        {
          "output_type": "stream",
          "text": [
            "[[ 46.  -4.]\n",
            " [-34.  73.]]\n"
          ],
          "name": "stdout"
        }
      ]
    }
  ]
}