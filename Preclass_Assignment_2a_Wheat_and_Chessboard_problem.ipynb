{
  "nbformat": 4,
  "nbformat_minor": 0,
  "metadata": {
    "colab": {
      "name": "Preclass_Assignment_2a_Wheat_and_Chessboard_problem.ipynb",
      "provenance": [],
      "collapsed_sections": []
    },
    "kernelspec": {
      "name": "python3",
      "display_name": "Python 3"
    }
  },
  "cells": [
    {
      "cell_type": "code",
      "metadata": {
        "id": "bDchZJu1dzu-"
      },
      "source": [
        "import numpy as np\r\n",
        "import matplotlib.pyplot as plt"
      ],
      "execution_count": null,
      "outputs": []
    },
    {
      "cell_type": "code",
      "metadata": {
        "colab": {
          "base_uri": "https://localhost:8080/"
        },
        "id": "uUpbYJ49c_uF",
        "outputId": "afd0104b-de4d-47a1-8f83-ad66d55fcebc"
      },
      "source": [
        "n_squares = 4\r\n",
        "small_board_list = [1]\r\n",
        "for _ in range(n_squares - 1):\r\n",
        "    small_board_list.append(2*small_board_list[-1])\r\n",
        "print(\"Arrange wheat on a plate of 4 squares (list)：{}\".format(small_board_list))"
      ],
      "execution_count": null,
      "outputs": [
        {
          "output_type": "stream",
          "text": [
            "Arrange wheat on a plate of 4 squares (list)：[1, 2, 4, 8]\n"
          ],
          "name": "stdout"
        }
      ]
    },
    {
      "cell_type": "code",
      "metadata": {
        "colab": {
          "base_uri": "https://localhost:8080/"
        },
        "id": "7HoJOSkzeLpN",
        "outputId": "1dc0184a-87b5-4c48-a3b7-29dd99b65ede"
      },
      "source": [
        "small_board_ndarray = np.array(small_board_list)\r\n",
        "print(\"Arrange wheat on a plate of 4 squares (ndarray)：{}\".format(small_board_ndarray))"
      ],
      "execution_count": null,
      "outputs": [
        {
          "output_type": "stream",
          "text": [
            "Arrange wheat on a plate of 4 squares (ndarray)：[1 2 4 8]\n"
          ],
          "name": "stdout"
        }
      ]
    },
    {
      "cell_type": "markdown",
      "metadata": {
        "id": "OJZ2xk90c0eo"
      },
      "source": [
        "# [Problem 1] Number of wheat on a 2 x 2 square chess board"
      ]
    },
    {
      "cell_type": "code",
      "metadata": {
        "colab": {
          "base_uri": "https://localhost:8080/"
        },
        "id": "nI20typQerRQ",
        "outputId": "085aafa3-6d89-4e25-a9a6-eca2c4b370a7"
      },
      "source": [
        "small_board_ndarray.reshape((2,2))"
      ],
      "execution_count": null,
      "outputs": [
        {
          "output_type": "execute_result",
          "data": {
            "text/plain": [
              "array([[1, 2],\n",
              "       [4, 8]])"
            ]
          },
          "metadata": {
            "tags": []
          },
          "execution_count": 38
        }
      ]
    },
    {
      "cell_type": "markdown",
      "metadata": {
        "id": "SNJYKrjuiM4O"
      },
      "source": [
        "# [Problem 2] Expansion to n × m mass"
      ]
    },
    {
      "cell_type": "code",
      "metadata": {
        "colab": {
          "base_uri": "https://localhost:8080/"
        },
        "id": "coQy2L2jiPpU",
        "outputId": "b0e58a59-883c-46f2-ff84-50393a51945e"
      },
      "source": [
        "def ndarray_creation(n,m):\r\n",
        "    arr = np.array([2**i for i in range(n*m)]).astype(np.uint64)\r\n",
        "    arr = arr.reshape((n,m))\r\n",
        "    return arr\r\n",
        "\r\n",
        "print(ndarray_creation(4,8))"
      ],
      "execution_count": null,
      "outputs": [
        {
          "output_type": "stream",
          "text": [
            "[[         1          2          4          8         16         32\n",
            "          64        128]\n",
            " [       256        512       1024       2048       4096       8192\n",
            "       16384      32768]\n",
            " [     65536     131072     262144     524288    1048576    2097152\n",
            "     4194304    8388608]\n",
            " [  16777216   33554432   67108864  134217728  268435456  536870912\n",
            "  1073741824 2147483648]]\n"
          ],
          "name": "stdout"
        }
      ]
    },
    {
      "cell_type": "markdown",
      "metadata": {
        "id": "mD7GP1l93Kr4"
      },
      "source": [
        "# [Problem 3] Total number of wheat"
      ]
    },
    {
      "cell_type": "code",
      "metadata": {
        "colab": {
          "base_uri": "https://localhost:8080/",
          "height": 312
        },
        "id": "gx629AK13QWW",
        "outputId": "807797a5-e6e5-478b-be96-f130029fce0c"
      },
      "source": [
        "ndarray = ndarray_creation(8,8)\r\n",
        "print(\"Total number of wheat: {}\".format(ndarray.sum()))\r\n",
        "plt.xlabel(\"column\")\r\n",
        "plt.ylabel(\"mean number\")\r\n",
        "plt.title(\"Mean number in each column\")\r\n",
        "plt.bar(np.arange(1,9), np.mean(ndarray, axis=0).flatten())\r\n",
        "plt.show()"
      ],
      "execution_count": null,
      "outputs": [
        {
          "output_type": "stream",
          "text": [
            "Total number of wheat: 18446744073709551615\n"
          ],
          "name": "stdout"
        },
        {
          "output_type": "display_data",
          "data": {
            "image/png": "[encoded data removed]",
            "text/plain": [
              "<Figure size 432x288 with 1 Axes>"
            ]
          },
          "metadata": {
            "tags": [],
            "needs_background": "light"
          }
        }
      ]
    },
    {
      "cell_type": "markdown",
      "metadata": {
        "id": "rSpuGnnv7U1j"
      },
      "source": [
        "# [Problem 4] Heat map of the number of wheat"
      ]
    },
    {
      "cell_type": "code",
      "metadata": {
        "colab": {
          "base_uri": "https://localhost:8080/",
          "height": 295
        },
        "id": "vVKxbKys7YUu",
        "outputId": "e357a203-aac7-41fe-9874-eb130dbb410e"
      },
      "source": [
        "plt.xlabel(\"column\")\r\n",
        "plt.ylabel(\"row\")\r\n",
        "plt.title(\"heatmap\")\r\n",
        "plt.pcolor(ndarray)\r\n",
        "plt.show()"
      ],
      "execution_count": null,
      "outputs": [
        {
          "output_type": "display_data",
          "data": {
            "image/png": "[encoded data removed]",
            "text/plain": [
              "<Figure size 432x288 with 1 Axes>"
            ]
          },
          "metadata": {
            "tags": [],
            "needs_background": "light"
          }
        }
      ]
    },
    {
      "cell_type": "markdown",
      "metadata": {
        "id": "YOcuN2L87suj"
      },
      "source": [
        "# [Problem 5] How many times is the second half as long as the first half?"
      ]
    },
    {
      "cell_type": "code",
      "metadata": {
        "colab": {
          "base_uri": "https://localhost:8080/"
        },
        "id": "Md2JeoQg_NPo",
        "outputId": "412bf9be-0685-4f66-a982-364e800ed4d4"
      },
      "source": [
        "first_half = ndarray[:4].sum()\r\n",
        "second_half = ndarray[4:].sum()\r\n",
        "print(\"The second half is {:.2f} greater than the first half\".format(second_half/first_half))"
      ],
      "execution_count": null,
      "outputs": [
        {
          "output_type": "stream",
          "text": [
            "The second half is 4294967296.00 greater than the first half\n"
          ],
          "name": "stdout"
        }
      ]
    },
    {
      "cell_type": "code",
      "metadata": {
        "colab": {
          "base_uri": "https://localhost:8080/"
        },
        "id": "nf4IP3yxBdnH",
        "outputId": "81e903ff-0441-496c-ef9e-163cb94dc0b5"
      },
      "source": [
        "n_squares = 4\r\n",
        "small_board_ndarray = np.array([1])\r\n",
        "for _ in range(n_squares - 1):\r\n",
        "    small_board_ndarray = np.append(small_board_ndarray, 2*small_board_ndarray[-1])\r\n",
        "print(\"Arrange wheat on a plate of 4 squares (ndarray)：{}\".format(small_board_ndarray))"
      ],
      "execution_count": null,
      "outputs": [
        {
          "output_type": "stream",
          "text": [
            "Arrange wheat on a plate of 4 squares (ndarray)：[1 2 4 8]\n"
          ],
          "name": "stdout"
        }
      ]
    },
    {
      "cell_type": "code",
      "metadata": {
        "colab": {
          "base_uri": "https://localhost:8080/"
        },
        "id": "KRRKM6dgBkoU",
        "outputId": "59c370ac-f8d7-4022-ddf7-dfcc84b93c20"
      },
      "source": [
        "n_squares = 4\r\n",
        "indices_of_squares = np.arange(n_squares)\r\n",
        "small_board_ndarray = 2**indices_of_squares\r\n",
        "print(\"Arrange wheat on a plate of 4 squares (ndarray)：{}\".format(small_board_ndarray))"
      ],
      "execution_count": null,
      "outputs": [
        {
          "output_type": "stream",
          "text": [
            "Arrange wheat on a plate of 4 squares (ndarray)：[1 2 4 8]\n"
          ],
          "name": "stdout"
        }
      ]
    },
    {
      "cell_type": "code",
      "metadata": {
        "colab": {
          "base_uri": "https://localhost:8080/"
        },
        "id": "tqUsODCfBk5g",
        "outputId": "07edc8d3-b37f-4097-c9c4-356fab3bdc54"
      },
      "source": [
        "a = np.array([0,1,2])\r\n",
        "# When not using broadcast\r\n",
        "b = np.array([5,5,5])\r\n",
        "print(a + b)  # Out: [5,6,7]\r\n",
        "\r\n",
        "# When using broadcast\r\n",
        "print(a + 5)  # Out: [5,6,7] * 5 is automatically converted to the matrix of (1,3) ([5,5,5])"
      ],
      "execution_count": null,
      "outputs": [
        {
          "output_type": "stream",
          "text": [
            "[5 6 7]\n",
            "[5 6 7]\n"
          ],
          "name": "stdout"
        }
      ]
    },
    {
      "cell_type": "code",
      "metadata": {
        "colab": {
          "base_uri": "https://localhost:8080/"
        },
        "id": "ku8HAI1xCAVi",
        "outputId": "603fd238-b730-43d7-d92f-2f3f412ff067"
      },
      "source": [
        "n_squares = 64\r\n",
        "board_ndarray = np.array([1])\r\n",
        "for _ in range(n_squares - 1):\r\n",
        "    board_ndarray = np.append(board_ndarray, 2*board_ndarray[-1])\r\n",
        "print(\"Number of wheat in the last trout：{}\".format(board_ndarray[-1]))"
      ],
      "execution_count": null,
      "outputs": [
        {
          "output_type": "stream",
          "text": [
            "Number of wheat in the last trout：-9223372036854775808\n"
          ],
          "name": "stdout"
        },
        {
          "output_type": "stream",
          "text": [
            "/usr/local/lib/python3.7/dist-packages/ipykernel_launcher.py:4: RuntimeWarning: overflow encountered in long_scalars\n",
            "  after removing the cwd from sys.path.\n"
          ],
          "name": "stderr"
        }
      ]
    },
    {
      "cell_type": "code",
      "metadata": {
        "colab": {
          "base_uri": "https://localhost:8080/"
        },
        "id": "ebL3XhWNCAlG",
        "outputId": "9a8b941f-d376-4a94-e6cc-3edc248acfd3"
      },
      "source": [
        "n_squares = 64\r\n",
        "board_ndarray = np.array([1]).astype(np.uint64)\r\n",
        "for _ in range(n_squares - 1):\r\n",
        "    board_ndarray = np.append(board_ndarray, 2*board_ndarray[-1])\r\n",
        "print(\"Number of wheat in the last trout：{}\".format(board_ndarray[-1]))"
      ],
      "execution_count": null,
      "outputs": [
        {
          "output_type": "stream",
          "text": [
            "Number of wheat in the last trout：9.223372036854776e+18\n"
          ],
          "name": "stdout"
        }
      ]
    },
    {
      "cell_type": "markdown",
      "metadata": {
        "id": "JxjU453IBP2d"
      },
      "source": [
        "# [Problem 6] Expansion to n × m mass by another calculation method"
      ]
    },
    {
      "cell_type": "code",
      "metadata": {
        "id": "JMfdb97gBSYN"
      },
      "source": [
        "def ndarray_creation_2(n,m):\r\n",
        "    board_ndarray = np.array([1]).astype(np.uint64)\r\n",
        "    for _ in range(m*n - 1):\r\n",
        "        board_ndarray = np.append(board_ndarray, 2*board_ndarray[-1])\r\n",
        "    return board_ndarray.reshape((n,m))\r\n",
        "\r\n",
        "def ndarray_creation_3(n,m):\r\n",
        "    indices_of_squares = np.arange(n*m).astype(np.uint64)\r\n",
        "    small_board_ndarray = 2**indices_of_squares\r\n",
        "    return board_ndarray.reshape((n,m))\r\n",
        "\r\n",
        "print(ndarray_creation_2(8,8).sum())\r\n",
        "print(ndarray_creation_3(8,8).sum())"
      ],
      "execution_count": null,
      "outputs": []
    },
    {
      "cell_type": "markdown",
      "metadata": {
        "id": "-4ZO5BhsEhIr"
      },
      "source": [
        "# [Problem 7] Comparing calculation times"
      ]
    },
    {
      "cell_type": "code",
      "metadata": {
        "colab": {
          "base_uri": "https://localhost:8080/"
        },
        "id": "wlLgAKCzEvdo",
        "outputId": "ee0e0978-e0bb-4cd2-fc65-0f7a513436b1"
      },
      "source": [
        "%%timeit\r\n",
        "ndarray_creation(8,8)"
      ],
      "execution_count": 133,
      "outputs": [
        {
          "output_type": "stream",
          "text": [
            "The slowest run took 23.78 times longer than the fastest. This could mean that an intermediate result is being cached.\n",
            "10000 loops, best of 5: 29 µs per loop\n"
          ],
          "name": "stdout"
        }
      ]
    },
    {
      "cell_type": "code",
      "metadata": {
        "colab": {
          "base_uri": "https://localhost:8080/"
        },
        "id": "rDzvalS_EjGh",
        "outputId": "0fe8400b-7cbc-42c8-e495-34f38a513703"
      },
      "source": [
        "%%timeit\r\n",
        "ndarray_creation_2(8,8)"
      ],
      "execution_count": 134,
      "outputs": [
        {
          "output_type": "stream",
          "text": [
            "1000 loops, best of 5: 437 µs per loop\n"
          ],
          "name": "stdout"
        }
      ]
    },
    {
      "cell_type": "code",
      "metadata": {
        "colab": {
          "base_uri": "https://localhost:8080/"
        },
        "id": "_ZmHSmJnEqhQ",
        "outputId": "1985b164-ff84-4441-832d-27bf2fd02435"
      },
      "source": [
        "%%timeit\r\n",
        "ndarray_creation_3(8,8)"
      ],
      "execution_count": 135,
      "outputs": [
        {
          "output_type": "stream",
          "text": [
            "The slowest run took 23.86 times longer than the fastest. This could mean that an intermediate result is being cached.\n",
            "100000 loops, best of 5: 3.89 µs per loop\n"
          ],
          "name": "stdout"
        }
      ]
    }
  ]
}